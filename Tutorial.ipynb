{
 "cells": [
  {
   "cell_type": "markdown",
   "metadata": {},
   "source": [
    "# GC Analog-to-Digital Conversion Tutorial"
   ]
  },
  {
   "cell_type": "markdown",
   "metadata": {},
   "source": [
    "Written by Coire Gavin-Hanner '18"
   ]
  },
  {
   "cell_type": "markdown",
   "metadata": {},
   "source": [
    "## GC and Chart Recorder Setup"
   ]
  },
  {
   "cell_type": "markdown",
   "metadata": {},
   "source": [
    "Follow the CG setup guide making sure the following are set correctly\n",
    "- On the GC\n",
    "    - Column temp: 150\n",
    "    - Detector Temp: 170\n",
    "    - Injector Temp: 150\n",
    "    - Detector Current: 150\n",
    "    - Attenuator: 1\n",
    "- On the Chart Recorder\n",
    "    - Speed: 60 cm/hour\n",
    "    - 1 V"
   ]
  },
  {
   "cell_type": "markdown",
   "metadata": {},
   "source": [
    "## Collect Data"
   ]
  },
  {
   "cell_type": "markdown",
   "metadata": {},
   "source": [
    "- Turn on Raspberry Pi\n",
    "    - There is no switch, all you have to do is plug it in\n",
    "    - Make sure keyboard, mouse, and display are all connected\n",
    "- open terminal\n",
    "- run the following commands:"
   ]
  },
  {
   "cell_type": "code",
   "execution_count": null,
   "metadata": {},
   "outputs": [],
   "source": [
    "cd ~"
   ]
  },
  {
   "cell_type": "markdown",
   "metadata": {},
   "source": [
    "(this just brings you to the home directory where the program is stored, you should already be there)"
   ]
  },
  {
   "cell_type": "code",
   "execution_count": null,
   "metadata": {},
   "outputs": [],
   "source": [
    "python collectData.py"
   ]
  },
  {
   "cell_type": "markdown",
   "metadata": {},
   "source": [
    "(if you are running this multiple times, hit the up arrow key to go to previous terminal commands)"
   ]
  },
  {
   "cell_type": "markdown",
   "metadata": {},
   "source": [
    "<img src=Images/2019-06-18-104819_1280x1024_scrot.png width=800/>"
   ]
  },
  {
   "cell_type": "markdown",
   "metadata": {},
   "source": [
    "In a few moments you will be asked to enter a name. This will be the beginning of the filename for the data files produced by the program. The end filename will also contain the date and time the program ends. Hit enter after you have typed the name."
   ]
  },
  {
   "cell_type": "markdown",
   "metadata": {},
   "source": [
    "<img src=Images/2019-06-18-104841_1280x1024_scrot.png width=800/>"
   ]
  },
  {
   "cell_type": "markdown",
   "metadata": {},
   "source": [
    "Now inject your sample into the instrument and hit the button on the breadboard. This should be a quick press, if you press it for too long, the program will end prematurely. If nothing happens when you hit the button, press it quickly again."
   ]
  },
  {
   "cell_type": "markdown",
   "metadata": {},
   "source": [
    "The terminal screen will now begin to print the values read by the ADC "
   ]
  },
  {
   "cell_type": "markdown",
   "metadata": {},
   "source": [
    "<img src=Images/2019-06-18-104933_1280x1024_scrot.png width=800/>"
   ]
  },
  {
   "cell_type": "markdown",
   "metadata": {},
   "source": [
    "When the run finishes, press the button again. In about 10 seconds, a chart will appear showing your data"
   ]
  },
  {
   "cell_type": "markdown",
   "metadata": {},
   "source": [
    "<img src=Images/2019-06-18-121919_1280x1024_scrot.png width=800/>"
   ]
  },
  {
   "cell_type": "markdown",
   "metadata": {},
   "source": [
    "To end the program, close the window with the chart."
   ]
  },
  {
   "cell_type": "markdown",
   "metadata": {},
   "source": [
    "A CSV file with your data and an image of the chart will be saved in the folder ~/GC_data. This can be accessed using the file browser."
   ]
  },
  {
   "cell_type": "markdown",
   "metadata": {},
   "source": [
    "<img src=Images/2019-06-18-121952_1280x1024_scrot.png width=800/>"
   ]
  },
  {
   "cell_type": "markdown",
   "metadata": {},
   "source": [
    "## Adding Data to Excel"
   ]
  },
  {
   "cell_type": "markdown",
   "metadata": {},
   "source": [
    "Open a new Excel Document"
   ]
  },
  {
   "cell_type": "markdown",
   "metadata": {},
   "source": [
    "- File > Import\n",
    "    - Choose CSV\n",
    "    - Import\n",
    "- Select your file and hit Get Data"
   ]
  },
  {
   "cell_type": "markdown",
   "metadata": {},
   "source": [
    "<p float=left>\n",
    "    <img src=\"Images/importCSV.png\" width=\"400\"/>\n",
    "    <img src=\"Images/getData.png\" width=\"400\"/>\n",
    "<p/>"
   ]
  },
  {
   "cell_type": "markdown",
   "metadata": {},
   "source": [
    "Run through the import wizard"
   ]
  },
  {
   "cell_type": "markdown",
   "metadata": {},
   "source": [
    "<p float=left>\n",
    "    <img src=\"Images/wiz1.png\" width=\"260\"/>\n",
    "    <img src=\"Images/wiz2.png\" width=\"260\"/>\n",
    "    <img src=\"Images/wiz3.png\" width=\"260\"/>\n",
    "<p/>"
   ]
  },
  {
   "cell_type": "markdown",
   "metadata": {},
   "source": [
    "Insert Chart"
   ]
  },
  {
   "cell_type": "markdown",
   "metadata": {},
   "source": [
    "<p float=left>\n",
    "    <img src=\"Images/insertChart.png\" width=\"400\"/>\n",
    "    <img src=\"Images/chart.png\" width=\"400\"/>\n",
    "<p/>"
   ]
  },
  {
   "cell_type": "markdown",
   "metadata": {},
   "source": [
    "## Troubleshooting"
   ]
  },
  {
   "cell_type": "markdown",
   "metadata": {},
   "source": [
    "### Check Wiring"
   ]
  },
  {
   "cell_type": "markdown",
   "metadata": {},
   "source": [
    "<img src=Images/IMG_5994.png width=800/>"
   ]
  },
  {
   "cell_type": "markdown",
   "metadata": {},
   "source": [
    "<img src=Images/IMG_0994.png width=500/>"
   ]
  },
  {
   "cell_type": "markdown",
   "metadata": {},
   "source": [
    "### Increasing Baseline"
   ]
  },
  {
   "cell_type": "markdown",
   "metadata": {},
   "source": [
    "If data is collected during the first 10 minutes or so of the instrument being turned on, the baseline will increase. You can see a little of this in the example I used above. This should go away in a few minutes. "
   ]
  },
  {
   "cell_type": "markdown",
   "metadata": {},
   "source": [
    "### Noise"
   ]
  },
  {
   "cell_type": "markdown",
   "metadata": {},
   "source": [
    "There is some variation in the amount of noise that will show up in a run. If you are consistently getting a lot of noise or want better-looking peaks, increasing the data collection rate should help with that. on line 55 you should see..."
   ]
  },
  {
   "cell_type": "code",
   "execution_count": null,
   "metadata": {},
   "outputs": [],
   "source": [
    "time.sleep(0.001)"
   ]
  },
  {
   "cell_type": "markdown",
   "metadata": {},
   "source": [
    "This line tells the data collection loop to pause for .001 seconds before collecting another data point. If you lower this number, you will get more data points. There is a smoothing function that reduces variation in the data by a process calles locally weighted scatterplot smoothing (LOWESS). LOWESS works better with more points, but there is a tradeoff as it will take more time to process the data. "
   ]
  },
  {
   "cell_type": "markdown",
   "metadata": {},
   "source": []
  }
 ],
 "metadata": {
  "kernelspec": {
   "display_name": "Python 3",
   "language": "python",
   "name": "python3"
  },
  "language_info": {
   "codemirror_mode": {
    "name": "ipython",
    "version": 3
   },
   "file_extension": ".py",
   "mimetype": "text/x-python",
   "name": "python",
   "nbconvert_exporter": "python",
   "pygments_lexer": "ipython3",
   "version": "3.7.1"
  }
 },
 "nbformat": 4,
 "nbformat_minor": 2
}
