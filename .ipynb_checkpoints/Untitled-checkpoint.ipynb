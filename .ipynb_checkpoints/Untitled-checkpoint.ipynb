{
 "cells": [
  {
   "cell_type": "markdown",
   "metadata": {},
   "source": [
    "# Data Collection"
   ]
  },
  {
   "cell_type": "markdown",
   "metadata": {},
   "source": [
    "I am having trouble with Tailing peaks. Dudley suggested two things\n",
    "1. I am overloading the column, inject less sample\n",
    "    - I corrected for this by injecting only 5ul\n",
    "    - This was still too high, I switched to the samller syringe and injected 1ul. this gave me nice looking peaks\n",
    "2. Change the attenuation\n",
    "    - I tried increasing the attentuation, this just gave me smaller peaks with the same shape"
   ]
  },
  {
   "cell_type": "markdown",
   "metadata": {},
   "source": [
    "I am now running into a signal-to-noise ratio problem. Increasing the current to 150 (nominal current) helped somewhat. I am going to see if changing the resistors do anything"
   ]
  },
  {
   "cell_type": "markdown",
   "metadata": {},
   "source": [
    "## Test noise level"
   ]
  },
  {
   "cell_type": "markdown",
   "metadata": {},
   "source": [
    "I am going to try different collection rates and test the standard deviation of the data"
   ]
  },
  {
   "cell_type": "markdown",
   "metadata": {},
   "source": [
    "```\n",
    "1.0610843510296435\n",
    "1.1487384384619503\n",
    "1.0476640682967036\n",
    "1.0897247358851685\n",
    "1.1532454205415255\n",
    "1.149684739395979\n",
    "```\n",
    "and \n",
    "```\n",
    "1.0540279882431964\n",
    "1.0539331098319287\n",
    "1.1338430226446692\n",
    "1.233683508846576\n",
    "1.0665364503850772\n",
    "0.9715451610707553\n",
    "```\n",
    "are std deviations for 200 data points taken with capture rates between 0.01 and 0.5. There does not appear to be any correlation between the capture rate and standard deviation"
   ]
  },
  {
   "cell_type": "markdown",
   "metadata": {},
   "source": [
    "## collecting in multiple channels and averaging"
   ]
  },
  {
   "cell_type": "markdown",
   "metadata": {},
   "source": [
    "This does a good job of decreasing noise, but the peaks are being cut off at 1857...its really weird"
   ]
  },
  {
   "cell_type": "markdown",
   "metadata": {},
   "source": [
    "- I see peaks collecting only at A0\n"
   ]
  },
  {
   "cell_type": "markdown",
   "metadata": {},
   "source": [
    "test14_ negative to ground: current drops on instrument...this seems wrong...dont do this"
   ]
  },
  {
   "cell_type": "markdown",
   "metadata": {},
   "source": [
    "test14_ negative to A1: yeilds 1857 on all channels"
   ]
  },
  {
   "cell_type": "markdown",
   "metadata": {},
   "source": [
    "test15_ add all channels up, but only connect positive to A0: "
   ]
  },
  {
   "cell_type": "markdown",
   "metadata": {},
   "source": [
    "# Baseline Detection/Subtraction"
   ]
  },
  {
   "cell_type": "markdown",
   "metadata": {},
   "source": [
    "# Package installation"
   ]
  },
  {
   "cell_type": "code",
   "execution_count": null,
   "metadata": {},
   "outputs": [],
   "source": [
    "sudo apt-get install libatlas-base-dev"
   ]
  },
  {
   "cell_type": "markdown",
   "metadata": {},
   "source": [
    "[PeakUtils.baseline](https://peakutils.readthedocs.io/en/latest/tutorial_a.html)"
   ]
  },
  {
   "cell_type": "markdown",
   "metadata": {},
   "source": [
    "[source code](https://bitbucket.org/lucashnegri/peakutils/src/master/)"
   ]
  },
  {
   "cell_type": "markdown",
   "metadata": {},
   "source": [
    "git clone https://bitbucket.org/lucashnegri/peakutils.git"
   ]
  },
  {
   "cell_type": "code",
   "execution_count": null,
   "metadata": {},
   "outputs": [],
   "source": [
    "sudo python setup.py install"
   ]
  },
  {
   "cell_type": "markdown",
   "metadata": {},
   "source": [
    "peakutils.baseline.baseline(y, deg=None, max_it=None, tol=None)"
   ]
  },
  {
   "cell_type": "markdown",
   "metadata": {},
   "source": [
    "```\n",
    "Parameters:\t\n",
    "y (ndarray) – Data to detect the baseline.\n",
    "deg (int (default: 3)) – Degree of the polynomial that will estimate the data baseline. A low degree may fail to detect all the baseline present, while a high degree may make the data too oscillatory, especially at the edges.\n",
    "max_it (int (default: 100)) – Maximum number of iterations to perform.\n",
    "tol (float (default: 1e-3)) – Tolerance to use when comparing the difference between the current fit coefficients and the ones from the last iteration. The iteration procedure will stop when the difference between them is lower than tol.\n",
    "Returns:\t\n",
    "Array with the baseline amplitude for every original point in y\n",
    "Return type:\n",
    "```"
   ]
  },
  {
   "cell_type": "code",
   "execution_count": null,
   "metadata": {},
   "outputs": [],
   "source": []
  },
  {
   "cell_type": "markdown",
   "metadata": {},
   "source": [
    "# Peak Detection/Integration"
   ]
  },
  {
   "cell_type": "markdown",
   "metadata": {},
   "source": [
    "[PeakUtils](https://peakutils.readthedocs.io/en/latest/tutorial_a.html)"
   ]
  },
  {
   "cell_type": "markdown",
   "metadata": {},
   "source": [
    "# Live Plotting"
   ]
  },
  {
   "cell_type": "markdown",
   "metadata": {},
   "source": [
    "[matplotlib](https://pythonprogramming.net/live-graphs-matplotlib-tutorial/)"
   ]
  },
  {
   "cell_type": "markdown",
   "metadata": {},
   "source": [
    "# Data Smoothing"
   ]
  },
  {
   "cell_type": "markdown",
   "metadata": {},
   "source": [
    "[LOWESS](http://www.statsmodels.org/stable/generated/statsmodels.nonparametric.smoothers_lowess.lowess.html)"
   ]
  },
  {
   "cell_type": "code",
   "execution_count": null,
   "metadata": {},
   "outputs": [],
   "source": [
    "sudo pip3 install -U statsmodels"
   ]
  },
  {
   "cell_type": "markdown",
   "metadata": {},
   "source": [
    "[scipy savgol_filter](https://docs.scipy.org/doc/scipy/reference/generated/scipy.signal.savgol_filter.html#scipy.signal.savgol_filter)"
   ]
  },
  {
   "cell_type": "markdown",
   "metadata": {},
   "source": [
    "1. Check that you are using the Python you expect (you're using /usr/bin/python3.5)"
   ]
  },
  {
   "cell_type": "markdown",
   "metadata": {},
   "source": [
    "## LOWESS"
   ]
  },
  {
   "cell_type": "markdown",
   "metadata": {},
   "source": [
    "#### test35_ \n",
    "collection = 0.001\n",
    "fraction = 0.001"
   ]
  }
 ],
 "metadata": {
  "kernelspec": {
   "display_name": "Python 3",
   "language": "python",
   "name": "python3"
  },
  "language_info": {
   "codemirror_mode": {
    "name": "ipython",
    "version": 3
   },
   "file_extension": ".py",
   "mimetype": "text/x-python",
   "name": "python",
   "nbconvert_exporter": "python",
   "pygments_lexer": "ipython3",
   "version": "3.7.1"
  }
 },
 "nbformat": 4,
 "nbformat_minor": 2
}
